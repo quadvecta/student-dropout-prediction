{
 "cells": [
  {
   "cell_type": "code",
   "execution_count": 1,
   "id": "913ef6f3-a5bb-4f6c-90a2-1abb6c247e9c",
   "metadata": {},
   "outputs": [
    {
     "name": "stdout",
     "output_type": "stream",
     "text": [
      "Rows: 4424, Columns: 35\n"
     ]
    },
    {
     "data": {
      "text/html": [
       "<div>\n",
       "<style scoped>\n",
       "    .dataframe tbody tr th:only-of-type {\n",
       "        vertical-align: middle;\n",
       "    }\n",
       "\n",
       "    .dataframe tbody tr th {\n",
       "        vertical-align: top;\n",
       "    }\n",
       "\n",
       "    .dataframe thead th {\n",
       "        text-align: right;\n",
       "    }\n",
       "</style>\n",
       "<table border=\"1\" class=\"dataframe\">\n",
       "  <thead>\n",
       "    <tr style=\"text-align: right;\">\n",
       "      <th></th>\n",
       "      <th>Marital status</th>\n",
       "      <th>Application mode</th>\n",
       "      <th>Application order</th>\n",
       "      <th>Course</th>\n",
       "      <th>Daytime/evening attendance</th>\n",
       "      <th>Previous qualification</th>\n",
       "      <th>Nacionality</th>\n",
       "      <th>Mother's qualification</th>\n",
       "      <th>Father's qualification</th>\n",
       "      <th>Mother's occupation</th>\n",
       "      <th>...</th>\n",
       "      <th>Curricular units 2nd sem (credited)</th>\n",
       "      <th>Curricular units 2nd sem (enrolled)</th>\n",
       "      <th>Curricular units 2nd sem (evaluations)</th>\n",
       "      <th>Curricular units 2nd sem (approved)</th>\n",
       "      <th>Curricular units 2nd sem (grade)</th>\n",
       "      <th>Curricular units 2nd sem (without evaluations)</th>\n",
       "      <th>Unemployment rate</th>\n",
       "      <th>Inflation rate</th>\n",
       "      <th>GDP</th>\n",
       "      <th>Target</th>\n",
       "    </tr>\n",
       "  </thead>\n",
       "  <tbody>\n",
       "    <tr>\n",
       "      <th>0</th>\n",
       "      <td>1</td>\n",
       "      <td>8</td>\n",
       "      <td>5</td>\n",
       "      <td>2</td>\n",
       "      <td>1</td>\n",
       "      <td>1</td>\n",
       "      <td>1</td>\n",
       "      <td>13</td>\n",
       "      <td>10</td>\n",
       "      <td>6</td>\n",
       "      <td>...</td>\n",
       "      <td>0</td>\n",
       "      <td>0</td>\n",
       "      <td>0</td>\n",
       "      <td>0</td>\n",
       "      <td>0.000000</td>\n",
       "      <td>0</td>\n",
       "      <td>10.8</td>\n",
       "      <td>1.4</td>\n",
       "      <td>1.74</td>\n",
       "      <td>Dropout</td>\n",
       "    </tr>\n",
       "    <tr>\n",
       "      <th>1</th>\n",
       "      <td>1</td>\n",
       "      <td>6</td>\n",
       "      <td>1</td>\n",
       "      <td>11</td>\n",
       "      <td>1</td>\n",
       "      <td>1</td>\n",
       "      <td>1</td>\n",
       "      <td>1</td>\n",
       "      <td>3</td>\n",
       "      <td>4</td>\n",
       "      <td>...</td>\n",
       "      <td>0</td>\n",
       "      <td>6</td>\n",
       "      <td>6</td>\n",
       "      <td>6</td>\n",
       "      <td>13.666667</td>\n",
       "      <td>0</td>\n",
       "      <td>13.9</td>\n",
       "      <td>-0.3</td>\n",
       "      <td>0.79</td>\n",
       "      <td>Graduate</td>\n",
       "    </tr>\n",
       "    <tr>\n",
       "      <th>2</th>\n",
       "      <td>1</td>\n",
       "      <td>1</td>\n",
       "      <td>5</td>\n",
       "      <td>5</td>\n",
       "      <td>1</td>\n",
       "      <td>1</td>\n",
       "      <td>1</td>\n",
       "      <td>22</td>\n",
       "      <td>27</td>\n",
       "      <td>10</td>\n",
       "      <td>...</td>\n",
       "      <td>0</td>\n",
       "      <td>6</td>\n",
       "      <td>0</td>\n",
       "      <td>0</td>\n",
       "      <td>0.000000</td>\n",
       "      <td>0</td>\n",
       "      <td>10.8</td>\n",
       "      <td>1.4</td>\n",
       "      <td>1.74</td>\n",
       "      <td>Dropout</td>\n",
       "    </tr>\n",
       "    <tr>\n",
       "      <th>3</th>\n",
       "      <td>1</td>\n",
       "      <td>8</td>\n",
       "      <td>2</td>\n",
       "      <td>15</td>\n",
       "      <td>1</td>\n",
       "      <td>1</td>\n",
       "      <td>1</td>\n",
       "      <td>23</td>\n",
       "      <td>27</td>\n",
       "      <td>6</td>\n",
       "      <td>...</td>\n",
       "      <td>0</td>\n",
       "      <td>6</td>\n",
       "      <td>10</td>\n",
       "      <td>5</td>\n",
       "      <td>12.400000</td>\n",
       "      <td>0</td>\n",
       "      <td>9.4</td>\n",
       "      <td>-0.8</td>\n",
       "      <td>-3.12</td>\n",
       "      <td>Graduate</td>\n",
       "    </tr>\n",
       "    <tr>\n",
       "      <th>4</th>\n",
       "      <td>2</td>\n",
       "      <td>12</td>\n",
       "      <td>1</td>\n",
       "      <td>3</td>\n",
       "      <td>0</td>\n",
       "      <td>1</td>\n",
       "      <td>1</td>\n",
       "      <td>22</td>\n",
       "      <td>28</td>\n",
       "      <td>10</td>\n",
       "      <td>...</td>\n",
       "      <td>0</td>\n",
       "      <td>6</td>\n",
       "      <td>6</td>\n",
       "      <td>6</td>\n",
       "      <td>13.000000</td>\n",
       "      <td>0</td>\n",
       "      <td>13.9</td>\n",
       "      <td>-0.3</td>\n",
       "      <td>0.79</td>\n",
       "      <td>Graduate</td>\n",
       "    </tr>\n",
       "  </tbody>\n",
       "</table>\n",
       "<p>5 rows × 35 columns</p>\n",
       "</div>"
      ],
      "text/plain": [
       "   Marital status  Application mode  Application order  Course  \\\n",
       "0               1                 8                  5       2   \n",
       "1               1                 6                  1      11   \n",
       "2               1                 1                  5       5   \n",
       "3               1                 8                  2      15   \n",
       "4               2                12                  1       3   \n",
       "\n",
       "   Daytime/evening attendance  Previous qualification  Nacionality  \\\n",
       "0                           1                       1            1   \n",
       "1                           1                       1            1   \n",
       "2                           1                       1            1   \n",
       "3                           1                       1            1   \n",
       "4                           0                       1            1   \n",
       "\n",
       "   Mother's qualification  Father's qualification  Mother's occupation  ...  \\\n",
       "0                      13                      10                    6  ...   \n",
       "1                       1                       3                    4  ...   \n",
       "2                      22                      27                   10  ...   \n",
       "3                      23                      27                    6  ...   \n",
       "4                      22                      28                   10  ...   \n",
       "\n",
       "   Curricular units 2nd sem (credited)  Curricular units 2nd sem (enrolled)  \\\n",
       "0                                    0                                    0   \n",
       "1                                    0                                    6   \n",
       "2                                    0                                    6   \n",
       "3                                    0                                    6   \n",
       "4                                    0                                    6   \n",
       "\n",
       "   Curricular units 2nd sem (evaluations)  \\\n",
       "0                                       0   \n",
       "1                                       6   \n",
       "2                                       0   \n",
       "3                                      10   \n",
       "4                                       6   \n",
       "\n",
       "   Curricular units 2nd sem (approved)  Curricular units 2nd sem (grade)  \\\n",
       "0                                    0                          0.000000   \n",
       "1                                    6                         13.666667   \n",
       "2                                    0                          0.000000   \n",
       "3                                    5                         12.400000   \n",
       "4                                    6                         13.000000   \n",
       "\n",
       "   Curricular units 2nd sem (without evaluations)  Unemployment rate  \\\n",
       "0                                               0               10.8   \n",
       "1                                               0               13.9   \n",
       "2                                               0               10.8   \n",
       "3                                               0                9.4   \n",
       "4                                               0               13.9   \n",
       "\n",
       "   Inflation rate   GDP    Target  \n",
       "0             1.4  1.74   Dropout  \n",
       "1            -0.3  0.79  Graduate  \n",
       "2             1.4  1.74   Dropout  \n",
       "3            -0.8 -3.12  Graduate  \n",
       "4            -0.3  0.79  Graduate  \n",
       "\n",
       "[5 rows x 35 columns]"
      ]
     },
     "execution_count": 1,
     "metadata": {},
     "output_type": "execute_result"
    }
   ],
   "source": [
    "import pandas as pd\n",
    "\n",
    "# Load dataset\n",
    "df = pd.read_csv(\"dataset.csv\") \n",
    "\n",
    "# Show the shape and first few rows\n",
    "print(f\"Rows: {df.shape[0]}, Columns: {df.shape[1]}\")\n",
    "df.head()\n"
   ]
  },
  {
   "cell_type": "code",
   "execution_count": 1,
   "id": "e834ab3c-6fd0-45d6-8c3e-ac7d6e792022",
   "metadata": {},
   "outputs": [
    {
     "ename": "NameError",
     "evalue": "name 'df' is not defined",
     "output_type": "error",
     "traceback": [
      "\u001b[31m---------------------------------------------------------------------------\u001b[39m",
      "\u001b[31mNameError\u001b[39m                                 Traceback (most recent call last)",
      "\u001b[36mCell\u001b[39m\u001b[36m \u001b[39m\u001b[32mIn[1]\u001b[39m\u001b[32m, line 1\u001b[39m\n\u001b[32m----> \u001b[39m\u001b[32m1\u001b[39m \u001b[43mdf\u001b[49m.isnull().sum()\n",
      "\u001b[31mNameError\u001b[39m: name 'df' is not defined"
     ]
    }
   ],
   "source": [
    "df.isnull().sum()"
   ]
  },
  {
   "cell_type": "code",
   "execution_count": 1,
   "id": "d6c7d3b0-52aa-43b2-8941-e5dd4d96e322",
   "metadata": {},
   "outputs": [
    {
     "ename": "NameError",
     "evalue": "name 'df' is not defined",
     "output_type": "error",
     "traceback": [
      "\u001b[31m---------------------------------------------------------------------------\u001b[39m",
      "\u001b[31mNameError\u001b[39m                                 Traceback (most recent call last)",
      "\u001b[36mCell\u001b[39m\u001b[36m \u001b[39m\u001b[32mIn[1]\u001b[39m\u001b[32m, line 1\u001b[39m\n\u001b[32m----> \u001b[39m\u001b[32m1\u001b[39m \u001b[43mdf\u001b[49m.isnull().sum()\n",
      "\u001b[31mNameError\u001b[39m: name 'df' is not defined"
     ]
    }
   ],
   "source": [
    "df.isnull().sum()"
   ]
  },
  {
   "cell_type": "code",
   "execution_count": 2,
   "id": "680bcf01-7a42-4694-b865-d6274b6b1e35",
   "metadata": {},
   "outputs": [],
   "source": [
    "import pandas as pd\n",
    "\n",
    "df = pd.read_csv(\"dataset.csv\")\n"
   ]
  },
  {
   "cell_type": "code",
   "execution_count": 3,
   "id": "f90ba289-4335-4d73-97ad-d6cbeab979e2",
   "metadata": {},
   "outputs": [
    {
     "data": {
      "text/plain": [
       "Marital status                                    0\n",
       "Application mode                                  0\n",
       "Application order                                 0\n",
       "Course                                            0\n",
       "Daytime/evening attendance                        0\n",
       "Previous qualification                            0\n",
       "Nacionality                                       0\n",
       "Mother's qualification                            0\n",
       "Father's qualification                            0\n",
       "Mother's occupation                               0\n",
       "Father's occupation                               0\n",
       "Displaced                                         0\n",
       "Educational special needs                         0\n",
       "Debtor                                            0\n",
       "Tuition fees up to date                           0\n",
       "Gender                                            0\n",
       "Scholarship holder                                0\n",
       "Age at enrollment                                 0\n",
       "International                                     0\n",
       "Curricular units 1st sem (credited)               0\n",
       "Curricular units 1st sem (enrolled)               0\n",
       "Curricular units 1st sem (evaluations)            0\n",
       "Curricular units 1st sem (approved)               0\n",
       "Curricular units 1st sem (grade)                  0\n",
       "Curricular units 1st sem (without evaluations)    0\n",
       "Curricular units 2nd sem (credited)               0\n",
       "Curricular units 2nd sem (enrolled)               0\n",
       "Curricular units 2nd sem (evaluations)            0\n",
       "Curricular units 2nd sem (approved)               0\n",
       "Curricular units 2nd sem (grade)                  0\n",
       "Curricular units 2nd sem (without evaluations)    0\n",
       "Unemployment rate                                 0\n",
       "Inflation rate                                    0\n",
       "GDP                                               0\n",
       "Target                                            0\n",
       "dtype: int64"
      ]
     },
     "execution_count": 3,
     "metadata": {},
     "output_type": "execute_result"
    }
   ],
   "source": [
    "df.isnull().sum()"
   ]
  },
  {
   "cell_type": "code",
   "execution_count": 4,
   "id": "14602fad-7e99-4a1b-a7bb-e43f44158844",
   "metadata": {},
   "outputs": [
    {
     "data": {
      "text/plain": [
       "Target\n",
       "Graduate    2209\n",
       "Dropout     1421\n",
       "Enrolled     794\n",
       "Name: count, dtype: int64"
      ]
     },
     "execution_count": 4,
     "metadata": {},
     "output_type": "execute_result"
    }
   ],
   "source": [
    "df['Target'].value_counts()\n"
   ]
  },
  {
   "cell_type": "code",
   "execution_count": 5,
   "id": "5b0afde2-af38-412c-af77-39598238d9ac",
   "metadata": {},
   "outputs": [
    {
     "data": {
      "text/plain": [
       "Target\n",
       "0    3003\n",
       "1    1421\n",
       "Name: count, dtype: int64"
      ]
     },
     "execution_count": 5,
     "metadata": {},
     "output_type": "execute_result"
    }
   ],
   "source": [
    "df['Target'] = df['Target'].apply(lambda x: 1 if x == 'Dropout' else 0)\n",
    "df['Target'].value_counts()\n"
   ]
  },
  {
   "cell_type": "code",
   "execution_count": 6,
   "id": "82c71763-bb12-4088-8e8e-c961a8bce4ba",
   "metadata": {},
   "outputs": [
    {
     "data": {
      "text/plain": [
       "Index([], dtype='object')"
      ]
     },
     "execution_count": 6,
     "metadata": {},
     "output_type": "execute_result"
    }
   ],
   "source": [
    "df.select_dtypes(include='object').columns\n"
   ]
  },
  {
   "cell_type": "code",
   "execution_count": 7,
   "id": "c62af267-e6a1-4748-b107-4dc5842b191e",
   "metadata": {},
   "outputs": [
    {
     "ename": "ModuleNotFoundError",
     "evalue": "No module named 'sklearn'",
     "output_type": "error",
     "traceback": [
      "\u001b[31m---------------------------------------------------------------------------\u001b[39m",
      "\u001b[31mModuleNotFoundError\u001b[39m                       Traceback (most recent call last)",
      "\u001b[36mCell\u001b[39m\u001b[36m \u001b[39m\u001b[32mIn[7]\u001b[39m\u001b[32m, line 1\u001b[39m\n\u001b[32m----> \u001b[39m\u001b[32m1\u001b[39m \u001b[38;5;28;01mfrom\u001b[39;00m\u001b[38;5;250m \u001b[39m\u001b[34;01msklearn\u001b[39;00m\u001b[34;01m.\u001b[39;00m\u001b[34;01mmodel_selection\u001b[39;00m\u001b[38;5;250m \u001b[39m\u001b[38;5;28;01mimport\u001b[39;00m train_test_split\n\u001b[32m      3\u001b[39m \u001b[38;5;66;03m# Separate features and target\u001b[39;00m\n\u001b[32m      4\u001b[39m X = df.drop(\u001b[33m'\u001b[39m\u001b[33mTarget\u001b[39m\u001b[33m'\u001b[39m, axis=\u001b[32m1\u001b[39m)\n",
      "\u001b[31mModuleNotFoundError\u001b[39m: No module named 'sklearn'"
     ]
    }
   ],
   "source": [
    "from sklearn.model_selection import train_test_split\n",
    "\n",
    "# Separate features and target\n",
    "X = df.drop('Target', axis=1)\n",
    "y = df['Target']\n",
    "\n",
    "# Split into 80% training, 20% testing\n",
    "X_train, X_test, y_train, y_test = train_test_split(X, y, test_size=0.2, random_state=42)\n",
    "\n",
    "# Show shape of splits\n",
    "print(f\"Train: {X_train.shape}, Test: {X_test.shape}\")\n"
   ]
  },
  {
   "cell_type": "code",
   "execution_count": 8,
   "id": "30345a98-44c6-42d6-af9d-eac7f97e00f3",
   "metadata": {},
   "outputs": [
    {
     "name": "stdout",
     "output_type": "stream",
     "text": [
      "Collecting scikit-learn\n",
      "  Downloading scikit_learn-1.6.1-cp311-cp311-win_amd64.whl.metadata (15 kB)\n",
      "Requirement already satisfied: numpy>=1.19.5 in c:\\users\\suhan\\appdata\\local\\packages\\pythonsoftwarefoundation.python.3.11_qbz5n2kfra8p0\\localcache\\local-packages\\python311\\site-packages (from scikit-learn) (2.2.5)\n",
      "Collecting scipy>=1.6.0 (from scikit-learn)\n",
      "  Downloading scipy-1.15.3-cp311-cp311-win_amd64.whl.metadata (60 kB)\n",
      "     ---------------------------------------- 0.0/60.8 kB ? eta -:--:--\n",
      "     ------ --------------------------------- 10.2/60.8 kB ? eta -:--:--\n",
      "     ------ --------------------------------- 10.2/60.8 kB ? eta -:--:--\n",
      "     ------------------- ------------------ 30.7/60.8 kB 325.1 kB/s eta 0:00:01\n",
      "     -------------------------------------- 60.8/60.8 kB 459.3 kB/s eta 0:00:00\n",
      "Collecting joblib>=1.2.0 (from scikit-learn)\n",
      "  Downloading joblib-1.5.0-py3-none-any.whl.metadata (5.6 kB)\n",
      "Collecting threadpoolctl>=3.1.0 (from scikit-learn)\n",
      "  Downloading threadpoolctl-3.6.0-py3-none-any.whl.metadata (13 kB)\n",
      "Downloading scikit_learn-1.6.1-cp311-cp311-win_amd64.whl (11.1 MB)\n",
      "   ---------------------------------------- 0.0/11.1 MB ? eta -:--:--\n",
      "   ---------------------------------------- 0.1/11.1 MB 1.7 MB/s eta 0:00:07\n",
      "   ---------------------------------------- 0.1/11.1 MB 1.6 MB/s eta 0:00:07\n",
      "    --------------------------------------- 0.2/11.1 MB 1.5 MB/s eta 0:00:08\n",
      "   - -------------------------------------- 0.4/11.1 MB 2.5 MB/s eta 0:00:05\n",
      "   - -------------------------------------- 0.5/11.1 MB 2.6 MB/s eta 0:00:05\n",
      "   -- ------------------------------------- 0.7/11.1 MB 3.0 MB/s eta 0:00:04\n",
      "   --- ------------------------------------ 0.9/11.1 MB 3.3 MB/s eta 0:00:04\n",
      "   ---- ----------------------------------- 1.2/11.1 MB 3.8 MB/s eta 0:00:03\n",
      "   ----- ---------------------------------- 1.5/11.1 MB 4.0 MB/s eta 0:00:03\n",
      "   ----- ---------------------------------- 1.6/11.1 MB 4.0 MB/s eta 0:00:03\n",
      "   ------ --------------------------------- 1.9/11.1 MB 4.3 MB/s eta 0:00:03\n",
      "   ------- -------------------------------- 2.2/11.1 MB 4.4 MB/s eta 0:00:03\n",
      "   --------- ------------------------------ 2.5/11.1 MB 4.6 MB/s eta 0:00:02\n",
      "   ---------- ----------------------------- 2.8/11.1 MB 4.7 MB/s eta 0:00:02\n",
      "   ----------- ---------------------------- 3.1/11.1 MB 5.0 MB/s eta 0:00:02\n",
      "   ------------ --------------------------- 3.5/11.1 MB 5.1 MB/s eta 0:00:02\n",
      "   ------------- -------------------------- 3.6/11.1 MB 5.0 MB/s eta 0:00:02\n",
      "   -------------- ------------------------- 4.1/11.1 MB 5.4 MB/s eta 0:00:02\n",
      "   --------------- ------------------------ 4.4/11.1 MB 5.5 MB/s eta 0:00:02\n",
      "   ---------------- ----------------------- 4.7/11.1 MB 5.6 MB/s eta 0:00:02\n",
      "   ----------------- ---------------------- 4.9/11.1 MB 5.7 MB/s eta 0:00:02\n",
      "   ------------------- -------------------- 5.4/11.1 MB 5.8 MB/s eta 0:00:01\n",
      "   ------------------- -------------------- 5.4/11.1 MB 5.8 MB/s eta 0:00:01\n",
      "   -------------------- ------------------- 5.8/11.1 MB 5.7 MB/s eta 0:00:01\n",
      "   ---------------------- ----------------- 6.2/11.1 MB 5.9 MB/s eta 0:00:01\n",
      "   ----------------------- ---------------- 6.6/11.1 MB 5.9 MB/s eta 0:00:01\n",
      "   ------------------------- -------------- 7.0/11.1 MB 6.1 MB/s eta 0:00:01\n",
      "   -------------------------- ------------- 7.4/11.1 MB 6.2 MB/s eta 0:00:01\n",
      "   ---------------------------- ----------- 7.9/11.1 MB 6.4 MB/s eta 0:00:01\n",
      "   ----------------------------- ---------- 8.3/11.1 MB 6.5 MB/s eta 0:00:01\n",
      "   ------------------------------- -------- 8.8/11.1 MB 6.7 MB/s eta 0:00:01\n",
      "   --------------------------------- ------ 9.3/11.1 MB 6.9 MB/s eta 0:00:01\n",
      "   ----------------------------------- ---- 9.8/11.1 MB 7.0 MB/s eta 0:00:01\n",
      "   ------------------------------------- -- 10.4/11.1 MB 7.7 MB/s eta 0:00:01\n",
      "   ---------------------------------------  11.1/11.1 MB 8.4 MB/s eta 0:00:01\n",
      "   ---------------------------------------  11.1/11.1 MB 8.3 MB/s eta 0:00:01\n",
      "   ---------------------------------------- 11.1/11.1 MB 8.0 MB/s eta 0:00:00\n",
      "Downloading joblib-1.5.0-py3-none-any.whl (307 kB)\n",
      "   ---------------------------------------- 0.0/307.7 kB ? eta -:--:--\n",
      "   ---------- ----------------------------- 81.9/307.7 kB 2.3 MB/s eta 0:00:01\n",
      "   ---------------------- ----------------- 174.1/307.7 kB 2.6 MB/s eta 0:00:01\n",
      "   ---------------------------------------  307.2/307.7 kB 2.7 MB/s eta 0:00:01\n",
      "   ---------------------------------------- 307.7/307.7 kB 2.4 MB/s eta 0:00:00\n",
      "Downloading scipy-1.15.3-cp311-cp311-win_amd64.whl (41.2 MB)\n",
      "   ---------------------------------------- 0.0/41.2 MB ? eta -:--:--\n",
      "   ---------------------------------------- 0.4/41.2 MB 11.2 MB/s eta 0:00:04\n",
      "    --------------------------------------- 0.9/41.2 MB 11.6 MB/s eta 0:00:04\n",
      "   - -------------------------------------- 1.6/41.2 MB 12.5 MB/s eta 0:00:04\n",
      "   -- ------------------------------------- 2.1/41.2 MB 12.3 MB/s eta 0:00:04\n",
      "   -- ------------------------------------- 2.7/41.2 MB 12.5 MB/s eta 0:00:04\n",
      "   --- ------------------------------------ 3.3/41.2 MB 13.1 MB/s eta 0:00:03\n",
      "   --- ------------------------------------ 4.0/41.2 MB 12.8 MB/s eta 0:00:03\n",
      "   ---- ----------------------------------- 4.7/41.2 MB 13.6 MB/s eta 0:00:03\n",
      "   ---- ----------------------------------- 4.9/41.2 MB 12.6 MB/s eta 0:00:03\n",
      "   ----- ---------------------------------- 5.8/41.2 MB 13.3 MB/s eta 0:00:03\n",
      "   ------ --------------------------------- 6.4/41.2 MB 13.2 MB/s eta 0:00:03\n",
      "   ------ --------------------------------- 7.1/41.2 MB 13.7 MB/s eta 0:00:03\n",
      "   ------- -------------------------------- 8.0/41.2 MB 14.2 MB/s eta 0:00:03\n",
      "   -------- ------------------------------- 8.8/41.2 MB 14.5 MB/s eta 0:00:03\n",
      "   --------- ------------------------------ 9.7/41.2 MB 14.8 MB/s eta 0:00:03\n",
      "   ---------- ----------------------------- 10.3/41.2 MB 14.9 MB/s eta 0:00:03\n",
      "   ---------- ----------------------------- 11.1/41.2 MB 15.6 MB/s eta 0:00:02\n",
      "   ----------- ---------------------------- 12.0/41.2 MB 16.0 MB/s eta 0:00:02\n",
      "   ------------ --------------------------- 13.0/41.2 MB 16.8 MB/s eta 0:00:02\n",
      "   ------------- -------------------------- 14.0/41.2 MB 17.7 MB/s eta 0:00:02\n",
      "   -------------- ------------------------- 14.8/41.2 MB 18.2 MB/s eta 0:00:02\n",
      "   --------------- ------------------------ 15.7/41.2 MB 18.7 MB/s eta 0:00:02\n",
      "   ---------------- ----------------------- 16.5/41.2 MB 19.9 MB/s eta 0:00:02\n",
      "   ---------------- ----------------------- 17.4/41.2 MB 20.5 MB/s eta 0:00:02\n",
      "   ----------------- ---------------------- 18.1/41.2 MB 20.5 MB/s eta 0:00:02\n",
      "   ------------------ --------------------- 19.0/41.2 MB 20.5 MB/s eta 0:00:02\n",
      "   ------------------- -------------------- 19.8/41.2 MB 19.9 MB/s eta 0:00:02\n",
      "   ------------------- -------------------- 20.5/41.2 MB 20.5 MB/s eta 0:00:02\n",
      "   -------------------- ------------------- 21.2/41.2 MB 20.5 MB/s eta 0:00:01\n",
      "   --------------------- ------------------ 21.7/41.2 MB 19.3 MB/s eta 0:00:02\n",
      "   --------------------- ------------------ 22.5/41.2 MB 19.9 MB/s eta 0:00:01\n",
      "   ---------------------- ----------------- 23.5/41.2 MB 19.9 MB/s eta 0:00:01\n",
      "   ----------------------- ---------------- 24.5/41.2 MB 19.3 MB/s eta 0:00:01\n",
      "   ------------------------ --------------- 25.5/41.2 MB 20.5 MB/s eta 0:00:01\n",
      "   -------------------------- ------------- 26.8/41.2 MB 21.1 MB/s eta 0:00:01\n",
      "   --------------------------- ------------ 27.9/41.2 MB 21.1 MB/s eta 0:00:01\n",
      "   --------------------------- ------------ 28.9/41.2 MB 21.1 MB/s eta 0:00:01\n",
      "   ---------------------------- ----------- 29.6/41.2 MB 21.9 MB/s eta 0:00:01\n",
      "   ------------------------------ --------- 31.4/41.2 MB 23.4 MB/s eta 0:00:01\n",
      "   ------------------------------- -------- 32.5/41.2 MB 25.2 MB/s eta 0:00:01\n",
      "   -------------------------------- ------- 33.8/41.2 MB 26.2 MB/s eta 0:00:01\n",
      "   --------------------------------- ------ 34.9/41.2 MB 27.3 MB/s eta 0:00:01\n",
      "   ----------------------------------- ---- 36.4/41.2 MB 28.5 MB/s eta 0:00:01\n",
      "   ------------------------------------ --- 37.7/41.2 MB 29.8 MB/s eta 0:00:01\n",
      "   ------------------------------------- -- 39.1/41.2 MB 31.2 MB/s eta 0:00:01\n",
      "   ---------------------------------------  40.6/41.2 MB 31.2 MB/s eta 0:00:01\n",
      "   ---------------------------------------  41.2/41.2 MB 32.7 MB/s eta 0:00:01\n",
      "   ---------------------------------------  41.2/41.2 MB 32.7 MB/s eta 0:00:01\n",
      "   ---------------------------------------  41.2/41.2 MB 32.7 MB/s eta 0:00:01\n",
      "   ---------------------------------------- 41.2/41.2 MB 22.6 MB/s eta 0:00:00\n",
      "Downloading threadpoolctl-3.6.0-py3-none-any.whl (18 kB)\n",
      "Installing collected packages: threadpoolctl, scipy, joblib, scikit-learn\n",
      "Successfully installed joblib-1.5.0 scikit-learn-1.6.1 scipy-1.15.3 threadpoolctl-3.6.0\n"
     ]
    },
    {
     "name": "stderr",
     "output_type": "stream",
     "text": [
      "\n",
      "[notice] A new release of pip is available: 24.0 -> 25.1.1\n",
      "[notice] To update, run: C:\\Users\\suhan\\AppData\\Local\\Microsoft\\WindowsApps\\PythonSoftwareFoundation.Python.3.11_qbz5n2kfra8p0\\python.exe -m pip install --upgrade pip\n"
     ]
    }
   ],
   "source": [
    "!pip install scikit-learn\n"
   ]
  },
  {
   "cell_type": "code",
   "execution_count": 9,
   "id": "4d1bfc3c-44e5-48c7-a202-ad8bb144198d",
   "metadata": {},
   "outputs": [
    {
     "name": "stdout",
     "output_type": "stream",
     "text": [
      "Train: (3539, 34), Test: (885, 34)\n"
     ]
    }
   ],
   "source": [
    "from sklearn.model_selection import train_test_split\n",
    "\n",
    "X = df.drop('Target', axis=1)\n",
    "y = df['Target']\n",
    "\n",
    "X_train, X_test, y_train, y_test = train_test_split(X, y, test_size=0.2, random_state=42)\n",
    "\n",
    "print(f\"Train: {X_train.shape}, Test: {X_test.shape}\")\n"
   ]
  },
  {
   "cell_type": "code",
   "execution_count": 10,
   "id": "87ecf7e9-51ad-4094-ac28-87beec93f2e1",
   "metadata": {},
   "outputs": [
    {
     "name": "stdout",
     "output_type": "stream",
     "text": [
      "Accuracy: 0.8632768361581921\n",
      "\n",
      "Confusion Matrix:\n",
      " [[531  38]\n",
      " [ 83 233]]\n",
      "\n",
      "Classification Report:\n",
      "               precision    recall  f1-score   support\n",
      "\n",
      "           0       0.86      0.93      0.90       569\n",
      "           1       0.86      0.74      0.79       316\n",
      "\n",
      "    accuracy                           0.86       885\n",
      "   macro avg       0.86      0.84      0.85       885\n",
      "weighted avg       0.86      0.86      0.86       885\n",
      "\n"
     ]
    }
   ],
   "source": [
    "from sklearn.linear_model import LogisticRegression\n",
    "from sklearn.metrics import accuracy_score, confusion_matrix, classification_report\n",
    "\n",
    "# Initialize and train the model\n",
    "model = LogisticRegression(max_iter=1000)\n",
    "model.fit(X_train, y_train)\n",
    "\n",
    "# Predict on test set\n",
    "y_pred = model.predict(X_test)\n",
    "\n",
    "# Evaluate\n",
    "print(\"Accuracy:\", accuracy_score(y_test, y_pred))\n",
    "print(\"\\nConfusion Matrix:\\n\", confusion_matrix(y_test, y_pred))\n",
    "print(\"\\nClassification Report:\\n\", classification_report(y_test, y_pred))\n"
   ]
  },
  {
   "cell_type": "code",
   "execution_count": 3,
   "id": "6b26e7a0-a095-4397-938e-8b61381945f2",
   "metadata": {},
   "outputs": [],
   "source": [
    "import pandas as pd\n",
    "df = pd.read_csv(\"dataset.csv\")\n",
    "df['Target'] = df['Target'].apply(lambda x: 1 if x == 'Dropout' else 0)"
   ]
  },
  {
   "cell_type": "code",
   "execution_count": 4,
   "id": "4ded8749-44cd-49a5-ac45-b45b71041320",
   "metadata": {},
   "outputs": [],
   "source": [
    "from sklearn.model_selection import train_test_split\n",
    "\n",
    "X = df.drop('Target', axis=1)\n",
    "y = df['Target']\n",
    "X_train, X_test, y_train, y_test = train_test_split(X, y, test_size=0.2, random_state=42)\n"
   ]
  },
  {
   "cell_type": "code",
   "execution_count": 5,
   "id": "56f4b29b-6f29-4214-bf9a-d4bbc37f51f8",
   "metadata": {},
   "outputs": [],
   "source": [
    "from sklearn.linear_model import LogisticRegression\n",
    "\n",
    "model = LogisticRegression(max_iter=1000)\n",
    "model.fit(X_train, y_train)\n",
    "y_pred = model.predict(X_test)\n"
   ]
  },
  {
   "cell_type": "code",
   "execution_count": 6,
   "id": "73c2c882-a436-405b-9e30-8b153916ac10",
   "metadata": {},
   "outputs": [
    {
     "data": {
      "image/png": "[encoded data removed]",
      "text/plain": [
       "<Figure size 600x400 with 2 Axes>"
      ]
     },
     "metadata": {},
     "output_type": "display_data"
    }
   ],
   "source": [
    "import seaborn as sns\n",
    "import matplotlib.pyplot as plt\n",
    "from sklearn.metrics import confusion_matrix\n",
    "\n",
    "cm = confusion_matrix(y_test, y_pred)\n",
    "\n",
    "plt.figure(figsize=(6, 4))\n",
    "sns.heatmap(cm, annot=True, fmt='d', cmap='Blues', xticklabels=['No Dropout', 'Dropout'], yticklabels=['No Dropout', 'Dropout'])\n",
    "plt.xlabel('Predicted')\n",
    "plt.ylabel('Actual')\n",
    "plt.title('Confusion Matrix')\n",
    "plt.show()\n"
   ]
  },
  {
   "cell_type": "code",
   "execution_count": null,
   "id": "fa08893b-619f-41df-8e03-74d7501a9860",
   "metadata": {},
   "outputs": [],
   "source": []
  }
 ],
 "metadata": {
  "kernelspec": {
   "display_name": "Python 3 (ipykernel)",
   "language": "python",
   "name": "python3"
  },
  "language_info": {
   "codemirror_mode": {
    "name": "ipython",
    "version": 3
   },
   "file_extension": ".py",
   "mimetype": "text/x-python",
   "name": "python",
   "nbconvert_exporter": "python",
   "pygments_lexer": "ipython3",
   "version": "3.11.9"
  }
 },
 "nbformat": 4,
 "nbformat_minor": 5
}
